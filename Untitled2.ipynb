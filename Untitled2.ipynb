{
  "nbformat": 4,
  "nbformat_minor": 0,
  "metadata": {
    "colab": {
      "provenance": [],
      "toc_visible": true,
      "authorship_tag": "ABX9TyPFzGy9Qs/k5ksl/pZDKWme",
      "include_colab_link": true
    },
    "kernelspec": {
      "name": "python3",
      "display_name": "Python 3"
    },
    "language_info": {
      "name": "python"
    }
  },
  "cells": [
    {
      "cell_type": "markdown",
      "metadata": {
        "id": "view-in-github",
        "colab_type": "text"
      },
      "source": [
        "<a href=\"https://colab.research.google.com/github/onanmuhumuza/project-1/blob/master/Untitled2.ipynb\" target=\"_parent\"><img src=\"https://colab.research.google.com/assets/colab-badge.svg\" alt=\"Open In Colab\"/></a>"
      ]
    },
    {
      "cell_type": "code",
      "execution_count": 2,
      "metadata": {
        "colab": {
          "base_uri": "https://localhost:8080/"
        },
        "id": "wpg9rnggendb",
        "outputId": "f5beaffb-f0ae-43f0-8056-1b589b15598e"
      },
      "outputs": [
        {
          "output_type": "stream",
          "name": "stdout",
          "text": [
            "Cloning into 'py'...\n",
            "remote: Enumerating objects: 2910, done.\u001b[K\n",
            "remote: Counting objects: 100% (6/6), done.\u001b[K\n",
            "remote: Compressing objects: 100% (5/5), done.\u001b[K\n",
            "remote: Total 2910 (delta 0), reused 4 (delta 0), pack-reused 2904\u001b[K\n",
            "Receiving objects: 100% (2910/2910), 196.66 MiB | 45.76 MiB/s, done.\n",
            "Resolving deltas: 100% (1124/1124), done.\n",
            "Updating files: 100% (1388/1388), done.\n"
          ]
        }
      ],
      "source": [
        "!git clone https://github.com/codebasics/py.git"
      ]
    },
    {
      "cell_type": "code",
      "source": [],
      "metadata": {
        "id": "m3vDp8-Ue8DM"
      },
      "execution_count": null,
      "outputs": []
    }
  ]
}